{
 "cells": [
  {
   "cell_type": "code",
   "execution_count": 15,
   "id": "6b4a132d",
   "metadata": {
    "scrolled": true
   },
   "outputs": [
    {
     "data": {
      "text/plain": [
       "4"
      ]
     },
     "execution_count": 15,
     "metadata": {},
     "output_type": "execute_result"
    }
   ],
   "source": [
    "2+2"
   ]
  },
  {
   "cell_type": "code",
   "execution_count": 8,
   "id": "377842bc",
   "metadata": {},
   "outputs": [],
   "source": [
    "ma_variable = 3"
   ]
  },
  {
   "cell_type": "code",
   "execution_count": 9,
   "id": "fb55f394",
   "metadata": {},
   "outputs": [
    {
     "data": {
      "text/plain": [
       "9"
      ]
     },
     "execution_count": 9,
     "metadata": {},
     "output_type": "execute_result"
    }
   ],
   "source": [
    "ma_variable * 3"
   ]
  },
  {
   "cell_type": "code",
   "execution_count": 10,
   "id": "6e884de8",
   "metadata": {},
   "outputs": [],
   "source": [
    "a = 2\n",
    "b = 3.5\n",
    "c = \"bonjour\""
   ]
  },
  {
   "cell_type": "code",
   "execution_count": 13,
   "id": "d820a008",
   "metadata": {},
   "outputs": [
    {
     "data": {
      "text/plain": [
       "str"
      ]
     },
     "execution_count": 13,
     "metadata": {},
     "output_type": "execute_result"
    }
   ],
   "source": [
    "type(c)"
   ]
  },
  {
   "cell_type": "code",
   "execution_count": 14,
   "id": "c07b084d",
   "metadata": {},
   "outputs": [
    {
     "name": "stdout",
     "output_type": "stream",
     "text": [
      "bonjour\n"
     ]
    }
   ],
   "source": [
    "print(c)"
   ]
  },
  {
   "cell_type": "code",
   "execution_count": 16,
   "id": "5aca7f8e",
   "metadata": {},
   "outputs": [],
   "source": [
    "liste = [1, 2, 3, 4]"
   ]
  },
  {
   "cell_type": "code",
   "execution_count": 17,
   "id": "d134b310",
   "metadata": {},
   "outputs": [
    {
     "data": {
      "text/plain": [
       "list"
      ]
     },
     "execution_count": 17,
     "metadata": {},
     "output_type": "execute_result"
    }
   ],
   "source": [
    "type(liste)"
   ]
  },
  {
   "cell_type": "code",
   "execution_count": 24,
   "id": "3e8b78b0",
   "metadata": {},
   "outputs": [
    {
     "data": {
      "text/plain": [
       "[1, 2, 3, 4]"
      ]
     },
     "execution_count": 24,
     "metadata": {},
     "output_type": "execute_result"
    }
   ],
   "source": [
    "liste"
   ]
  },
  {
   "cell_type": "code",
   "execution_count": 22,
   "id": "296bc112",
   "metadata": {},
   "outputs": [
    {
     "data": {
      "text/plain": [
       "2"
      ]
     },
     "execution_count": 22,
     "metadata": {},
     "output_type": "execute_result"
    }
   ],
   "source": [
    "liste[1] # On récupère l'élément en position 1"
   ]
  },
  {
   "cell_type": "code",
   "execution_count": 25,
   "id": "bd423320",
   "metadata": {},
   "outputs": [
    {
     "data": {
      "text/plain": [
       "4"
      ]
     },
     "execution_count": 25,
     "metadata": {},
     "output_type": "execute_result"
    }
   ],
   "source": [
    "len(liste)"
   ]
  },
  {
   "cell_type": "markdown",
   "id": "e4236a03",
   "metadata": {},
   "source": [
    "Bonjour tout le monde !"
   ]
  },
  {
   "cell_type": "code",
   "execution_count": 31,
   "id": "d5ea7ea1",
   "metadata": {},
   "outputs": [],
   "source": [
    "def fonction(x, y):\n",
    "    print(x, y)\n",
    "    return x + y"
   ]
  },
  {
   "cell_type": "code",
   "execution_count": 32,
   "id": "fd29cca2",
   "metadata": {},
   "outputs": [
    {
     "name": "stdout",
     "output_type": "stream",
     "text": [
      "2 3\n"
     ]
    },
    {
     "data": {
      "text/plain": [
       "5"
      ]
     },
     "execution_count": 32,
     "metadata": {},
     "output_type": "execute_result"
    }
   ],
   "source": [
    "fonction(2, 3)"
   ]
  },
  {
   "cell_type": "code",
   "execution_count": 41,
   "id": "f50626da",
   "metadata": {},
   "outputs": [],
   "source": [
    "# Créer une fonction qui somme les éléments d'une liste\n",
    "def somme_liste(liste):\n",
    "    somme = 0\n",
    "    print(\"somme :\", somme)\n",
    "    for e in liste:\n",
    "        somme += e\n",
    "        print(\"Itération :\")\n",
    "        print(\"e :\", e)\n",
    "        print(\"somme :\", somme)\n",
    "    return somme"
   ]
  },
  {
   "cell_type": "code",
   "execution_count": 42,
   "id": "a06eefe1",
   "metadata": {
    "scrolled": true
   },
   "outputs": [
    {
     "name": "stdout",
     "output_type": "stream",
     "text": [
      "somme : 0\n",
      "Itération :\n",
      "e : 1\n",
      "somme : 1\n"
     ]
    },
    {
     "data": {
      "text/plain": [
       "1"
      ]
     },
     "execution_count": 42,
     "metadata": {},
     "output_type": "execute_result"
    }
   ],
   "source": [
    "somme_liste([1, 2, 3, 4])"
   ]
  },
  {
   "cell_type": "code",
   "execution_count": 43,
   "id": "ddcbda55",
   "metadata": {},
   "outputs": [
    {
     "data": {
      "text/plain": [
       "10"
      ]
     },
     "execution_count": 43,
     "metadata": {},
     "output_type": "execute_result"
    }
   ],
   "source": [
    "sum([1, 2, 3, 4])"
   ]
  },
  {
   "cell_type": "code",
   "execution_count": 51,
   "id": "90f8a8f1",
   "metadata": {},
   "outputs": [],
   "source": [
    "liste = [1, 2, 3]"
   ]
  },
  {
   "cell_type": "code",
   "execution_count": 52,
   "id": "bc0657fb",
   "metadata": {},
   "outputs": [
    {
     "data": {
      "text/plain": [
       "[1, 2, 3, 5]"
      ]
     },
     "execution_count": 52,
     "metadata": {},
     "output_type": "execute_result"
    }
   ],
   "source": [
    "liste.append(5)\n",
    "liste"
   ]
  },
  {
   "cell_type": "code",
   "execution_count": 53,
   "id": "a96b1778",
   "metadata": {},
   "outputs": [
    {
     "data": {
      "text/plain": [
       "[1, 2, 3]"
      ]
     },
     "execution_count": 53,
     "metadata": {},
     "output_type": "execute_result"
    }
   ],
   "source": [
    "liste.pop()\n",
    "liste"
   ]
  },
  {
   "cell_type": "code",
   "execution_count": 55,
   "id": "c811ffc7",
   "metadata": {},
   "outputs": [
    {
     "name": "stdout",
     "output_type": "stream",
     "text": [
      "0\n",
      "1\n",
      "2\n",
      "3\n",
      "4\n",
      "5\n",
      "6\n",
      "7\n",
      "8\n",
      "9\n"
     ]
    }
   ],
   "source": [
    "for i in range(10):\n",
    "    print(i)"
   ]
  },
  {
   "cell_type": "code",
   "execution_count": 56,
   "id": "9ddd6f2e",
   "metadata": {},
   "outputs": [
    {
     "name": "stdout",
     "output_type": "stream",
     "text": [
      "0 1\n",
      "1 2\n",
      "2 3\n"
     ]
    }
   ],
   "source": [
    "for i in range(len(liste)):\n",
    "    print(i, liste[i])"
   ]
  },
  {
   "cell_type": "code",
   "execution_count": 68,
   "id": "26da12d7",
   "metadata": {},
   "outputs": [],
   "source": [
    "# Créer une fonction qui somme deux listes\n",
    "# [1, 2, 3] + [4, 5, 6] -> [5, 7, 9]\n",
    "def somme_vecteur(liste1, liste2):\n",
    "    resultat = []\n",
    "    for i in range(len(liste1)): \n",
    "        resultat.append(liste1[i] + liste2[i])\n",
    "        print(\"i =\", i)\n",
    "        print(\"liste1[i] =\", liste1[i])\n",
    "        print(\"liste2[i] =\", liste2[i])\n",
    "        print(\"resultat =\", resultat)\n",
    "    return resultat"
   ]
  },
  {
   "cell_type": "code",
   "execution_count": 69,
   "id": "8931bd8f",
   "metadata": {},
   "outputs": [
    {
     "data": {
      "text/plain": [
       "[5, 7, 9]"
      ]
     },
     "execution_count": 69,
     "metadata": {},
     "output_type": "execute_result"
    }
   ],
   "source": [
    "somme_vecteur([1, 2, 3], [4, 5, 6])"
   ]
  },
  {
   "cell_type": "code",
   "execution_count": null,
   "id": "ec58580b",
   "metadata": {},
   "outputs": [],
   "source": [
    "for i in range(10):\n",
    "    print(i * 0.5)"
   ]
  },
  {
   "cell_type": "code",
   "execution_count": 74,
   "id": "78c6d65d",
   "metadata": {},
   "outputs": [],
   "source": [
    "# Créer une fonction qui réalise le produit en un scalaire et un vecteur\n",
    "# 3 * [1, 2, 3] -> [3, 6, 9]\n",
    "def scalaire_vecteur(k, liste):\n",
    "    resultat = []\n",
    "    for i in range(len(liste)):\n",
    "        resultat.append(k * liste[i])\n",
    "    return resultat"
   ]
  },
  {
   "cell_type": "code",
   "execution_count": 75,
   "id": "940c9cb2",
   "metadata": {},
   "outputs": [
    {
     "data": {
      "text/plain": [
       "[3, 6, 9]"
      ]
     },
     "execution_count": 75,
     "metadata": {},
     "output_type": "execute_result"
    }
   ],
   "source": [
    "scalaire_vecteur(3, [1, 2, 3])"
   ]
  },
  {
   "cell_type": "code",
   "execution_count": 76,
   "id": "5f0a1b78",
   "metadata": {},
   "outputs": [],
   "source": [
    "bool1 = True\n",
    "bool2 = False"
   ]
  },
  {
   "cell_type": "code",
   "execution_count": 77,
   "id": "833c1735",
   "metadata": {},
   "outputs": [
    {
     "data": {
      "text/plain": [
       "bool"
      ]
     },
     "execution_count": 77,
     "metadata": {},
     "output_type": "execute_result"
    }
   ],
   "source": [
    "type(bool1)"
   ]
  },
  {
   "cell_type": "code",
   "execution_count": 78,
   "id": "b49b6726",
   "metadata": {},
   "outputs": [
    {
     "data": {
      "text/plain": [
       "4"
      ]
     },
     "execution_count": 78,
     "metadata": {},
     "output_type": "execute_result"
    }
   ],
   "source": [
    "2 + 2"
   ]
  },
  {
   "cell_type": "code",
   "execution_count": 79,
   "id": "3e479a72",
   "metadata": {},
   "outputs": [
    {
     "data": {
      "text/plain": [
       "6"
      ]
     },
     "execution_count": 79,
     "metadata": {},
     "output_type": "execute_result"
    }
   ],
   "source": [
    "2 * 3"
   ]
  },
  {
   "cell_type": "code",
   "execution_count": 80,
   "id": "e4d6aab3",
   "metadata": {},
   "outputs": [
    {
     "data": {
      "text/plain": [
       "4"
      ]
     },
     "execution_count": 80,
     "metadata": {},
     "output_type": "execute_result"
    }
   ],
   "source": [
    "6 - 2"
   ]
  },
  {
   "cell_type": "code",
   "execution_count": 81,
   "id": "a47dc8b3",
   "metadata": {},
   "outputs": [
    {
     "data": {
      "text/plain": [
       "1.5"
      ]
     },
     "execution_count": 81,
     "metadata": {},
     "output_type": "execute_result"
    }
   ],
   "source": [
    "3 / 2"
   ]
  },
  {
   "cell_type": "code",
   "execution_count": 83,
   "id": "7bdd065a",
   "metadata": {},
   "outputs": [
    {
     "data": {
      "text/plain": [
       "2"
      ]
     },
     "execution_count": 83,
     "metadata": {},
     "output_type": "execute_result"
    }
   ],
   "source": [
    "7 // 3"
   ]
  },
  {
   "cell_type": "code",
   "execution_count": 84,
   "id": "ad4bc633",
   "metadata": {},
   "outputs": [
    {
     "data": {
      "text/plain": [
       "1"
      ]
     },
     "execution_count": 84,
     "metadata": {},
     "output_type": "execute_result"
    }
   ],
   "source": [
    "7 % 3"
   ]
  },
  {
   "cell_type": "code",
   "execution_count": 87,
   "id": "698bfdcf",
   "metadata": {},
   "outputs": [],
   "source": [
    "def est_pair(n):\n",
    "    if n % 2 == 0:\n",
    "        print(\"pair\")\n",
    "    else:\n",
    "        print(\"impair\")"
   ]
  },
  {
   "cell_type": "code",
   "execution_count": 88,
   "id": "e0408324",
   "metadata": {},
   "outputs": [
    {
     "name": "stdout",
     "output_type": "stream",
     "text": [
      "impair\n"
     ]
    }
   ],
   "source": [
    "est_pair(3)"
   ]
  },
  {
   "cell_type": "code",
   "execution_count": 89,
   "id": "b1da9c7c",
   "metadata": {},
   "outputs": [
    {
     "name": "stdout",
     "output_type": "stream",
     "text": [
      "pair\n"
     ]
    }
   ],
   "source": [
    "est_pair(4)"
   ]
  },
  {
   "cell_type": "code",
   "execution_count": 104,
   "id": "25709b14",
   "metadata": {},
   "outputs": [
    {
     "data": {
      "text/plain": [
       "True"
      ]
     },
     "execution_count": 104,
     "metadata": {},
     "output_type": "execute_result"
    }
   ],
   "source": [
    "n = 1\n",
    "n > 0 and n < 2"
   ]
  },
  {
   "cell_type": "code",
   "execution_count": 105,
   "id": "3e645b7d",
   "metadata": {},
   "outputs": [
    {
     "name": "stdout",
     "output_type": "stream",
     "text": [
      "True\n",
      "False\n",
      "False\n",
      "False\n"
     ]
    }
   ],
   "source": [
    "print(True and True)\n",
    "print(True and False)\n",
    "print(False and True)\n",
    "print(False and False)"
   ]
  },
  {
   "cell_type": "code",
   "execution_count": 106,
   "id": "d54322ce",
   "metadata": {},
   "outputs": [
    {
     "name": "stdout",
     "output_type": "stream",
     "text": [
      "True\n",
      "True\n",
      "True\n",
      "False\n"
     ]
    }
   ],
   "source": [
    "print(True or True)\n",
    "print(True or False)\n",
    "print(False or True)\n",
    "print(False or False)"
   ]
  },
  {
   "cell_type": "code",
   "execution_count": 107,
   "id": "a7208a6f",
   "metadata": {},
   "outputs": [
    {
     "name": "stdout",
     "output_type": "stream",
     "text": [
      "False\n",
      "True\n"
     ]
    }
   ],
   "source": [
    "print(not True)\n",
    "print(not False)"
   ]
  },
  {
   "cell_type": "code",
   "execution_count": 112,
   "id": "6484e995",
   "metadata": {},
   "outputs": [],
   "source": [
    "# Si une année est divisible par 4, 100 et 400, il s'agit d'une année bissextile.\n",
    "# Si une année est divisible par 4 mais pas par 100, il s'agit d'une année bissextile.\n",
    "# Si une année n'est pas divisible par 4, il ne s'agit pas d'une année bissextile.\n",
    "# Si une année est divisible par 4 et par 100 mais pas par 400, il ne s'agit pas d'une année bissextile.\n",
    "\n",
    "def est_bissextile(annee):\n",
    "    if annee % 4 == 0 and annee % 100 == 0 and annee % 400 == 0:\n",
    "        print(\"bissextile\")\n",
    "    if annee % 4 == 0 and not annee % 100 == 0:\n",
    "        print(\"bissextile\")\n",
    "    if not annee % 4 == 0:\n",
    "        print(\"non bissextile\")\n",
    "    if annee % 4 == 0 and annee % 100 == 0 and not annee % 400 == 0:\n",
    "        print(\"non bissextile\")\n",
    "\n",
    "def est_bissextile2(annee):\n",
    "    if annee % 400 == 0 or annee % 4 == 0 and not annee % 100 == 0:\n",
    "        print(\"bissextile\")\n",
    "    else:\n",
    "        print(\"non bissextile\")\n",
    "\n",
    "def est_bissextile3(annee): # utiliser avec print\n",
    "    return annee % 400 == 0 or annee % 4 == 0 and not annee % 100 == 0"
   ]
  },
  {
   "cell_type": "code",
   "execution_count": 116,
   "id": "b2b5a203",
   "metadata": {},
   "outputs": [
    {
     "name": "stdout",
     "output_type": "stream",
     "text": [
      "bissextile\n",
      "bissextile\n",
      "non bissextile\n",
      "non bissextile\n"
     ]
    }
   ],
   "source": [
    "est_bissextile(2000) # bissextile\n",
    "est_bissextile(2020) # bissextile\n",
    "est_bissextile(2023) # non bissextile\n",
    "est_bissextile(1900) # non bissextile"
   ]
  },
  {
   "cell_type": "code",
   "execution_count": null,
   "id": "ea5529ea",
   "metadata": {},
   "outputs": [],
   "source": [
    "t = 0\n",
    "while t < "
   ]
  }
 ],
 "metadata": {
  "kernelspec": {
   "display_name": "Python 3 (ipykernel)",
   "language": "python",
   "name": "python3"
  },
  "language_info": {
   "codemirror_mode": {
    "name": "ipython",
    "version": 3
   },
   "file_extension": ".py",
   "mimetype": "text/x-python",
   "name": "python",
   "nbconvert_exporter": "python",
   "pygments_lexer": "ipython3",
   "version": "3.9.13"
  }
 },
 "nbformat": 4,
 "nbformat_minor": 5
}
