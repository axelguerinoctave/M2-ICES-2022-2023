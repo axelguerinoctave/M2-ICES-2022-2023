{
 "cells": [
  {
   "cell_type": "code",
   "execution_count": 1,
   "id": "645ccc79",
   "metadata": {},
   "outputs": [],
   "source": [
    "import numpy as np\n",
    "import pandas as pd\n",
    "import matplotlib.pyplot as plt\n",
    "import seaborn as sns"
   ]
  },
  {
   "cell_type": "code",
   "execution_count": 2,
   "id": "3ffd5771",
   "metadata": {},
   "outputs": [],
   "source": [
    "titanic = pd.read_csv(\"Data/titanic.txt\", sep = \";\")"
   ]
  },
  {
   "cell_type": "code",
   "execution_count": 3,
   "id": "389c14a9",
   "metadata": {},
   "outputs": [
    {
     "name": "stdout",
     "output_type": "stream",
     "text": [
      "     Survived  Pclass                                               Name  \\\n",
      "0           0       3                             Mr. Owen Harris Braund   \n",
      "1           1       1  Mrs. John Bradley (Florence Briggs Thayer) Cum...   \n",
      "2           1       3                              Miss. Laina Heikkinen   \n",
      "3           1       1        Mrs. Jacques Heath (Lily May Peel) Futrelle   \n",
      "4           0       3                            Mr. William Henry Allen   \n",
      "..        ...     ...                                                ...   \n",
      "882         0       2                               Rev. Juozas Montvila   \n",
      "883         1       1                        Miss. Margaret Edith Graham   \n",
      "884         0       3                     Miss. Catherine Helen Johnston   \n",
      "885         1       1                               Mr. Karl Howell Behr   \n",
      "886         0       3                                 Mr. Patrick Dooley   \n",
      "\n",
      "        Sex   Age  Siblings  Parents     Fare  \n",
      "0      male  22.0         1        0   7.2500  \n",
      "1    female  38.0         1        0  71.2833  \n",
      "2    female  26.0         0        0   7.9250  \n",
      "3    female  35.0         1        0  53.1000  \n",
      "4      male  35.0         0        0   8.0500  \n",
      "..      ...   ...       ...      ...      ...  \n",
      "882    male  27.0         0        0  13.0000  \n",
      "883  female  19.0         0        0  30.0000  \n",
      "884  female   7.0         1        2  23.4500  \n",
      "885    male  26.0         0        0  30.0000  \n",
      "886    male  32.0         0        0   7.7500  \n",
      "\n",
      "[887 rows x 8 columns]\n",
      "<class 'pandas.core.frame.DataFrame'>\n",
      "RangeIndex: 887 entries, 0 to 886\n",
      "Data columns (total 8 columns):\n",
      " #   Column    Non-Null Count  Dtype  \n",
      "---  ------    --------------  -----  \n",
      " 0   Survived  887 non-null    int64  \n",
      " 1   Pclass    887 non-null    int64  \n",
      " 2   Name      887 non-null    object \n",
      " 3   Sex       887 non-null    object \n",
      " 4   Age       887 non-null    float64\n",
      " 5   Siblings  887 non-null    int64  \n",
      " 6   Parents   887 non-null    int64  \n",
      " 7   Fare      887 non-null    float64\n",
      "dtypes: float64(2), int64(4), object(2)\n",
      "memory usage: 55.6+ KB\n",
      "None\n"
     ]
    }
   ],
   "source": [
    "#del titanic[\"Name\"] pour supprimer une colonne\n",
    "\n",
    "print(titanic)\n",
    "print(titanic.info())"
   ]
  },
  {
   "cell_type": "code",
   "execution_count": 4,
   "id": "98f26ce3",
   "metadata": {},
   "outputs": [
    {
     "name": "stdout",
     "output_type": "stream",
     "text": [
      "0    545\n",
      "1    342\n",
      "Name: Survived, dtype: int64\n",
      "3    487\n",
      "1    216\n",
      "2    184\n",
      "Name: Pclass, dtype: int64\n",
      "male      573\n",
      "female    314\n",
      "Name: Sex, dtype: int64\n",
      "0    604\n",
      "1    209\n",
      "2     28\n",
      "4     18\n",
      "3     16\n",
      "8      7\n",
      "5      5\n",
      "Name: Siblings, dtype: int64\n",
      "0    674\n",
      "1    118\n",
      "2     80\n",
      "5      5\n",
      "3      5\n",
      "4      4\n",
      "6      1\n",
      "Name: Parents, dtype: int64\n",
      "8.0500     43\n",
      "13.0000    42\n",
      "7.8958     36\n",
      "7.7500     33\n",
      "26.0000    31\n",
      "           ..\n",
      "35.0000     1\n",
      "28.5000     1\n",
      "6.2375      1\n",
      "14.0000     1\n",
      "10.5167     1\n",
      "Name: Fare, Length: 248, dtype: int64\n"
     ]
    }
   ],
   "source": [
    "print(titanic[\"Survived\"].value_counts())\n",
    "print(titanic[\"Pclass\"].value_counts())\n",
    "print(titanic[\"Sex\"].value_counts())\n",
    "print(titanic[\"Siblings\"].value_counts())\n",
    "print(titanic[\"Parents\"].value_counts())\n",
    "print(titanic[\"Fare\"].value_counts())"
   ]
  },
  {
   "cell_type": "code",
   "execution_count": 5,
   "id": "40863319",
   "metadata": {},
   "outputs": [
    {
     "name": "stdout",
     "output_type": "stream",
     "text": [
      "          Survived    Pclass       Age  Siblings   Parents      Fare\n",
      "Survived  1.000000 -0.336528 -0.059665 -0.037082  0.080097  0.256179\n",
      "Pclass   -0.336528  1.000000 -0.391492  0.085026  0.020252 -0.548919\n",
      "Age      -0.059665 -0.391492  1.000000 -0.297669 -0.193741  0.112329\n",
      "Siblings -0.037082  0.085026 -0.297669  1.000000  0.414244  0.158839\n",
      "Parents   0.080097  0.020252 -0.193741  0.414244  1.000000  0.215470\n",
      "Fare      0.256179 -0.548919  0.112329  0.158839  0.215470  1.000000\n"
     ]
    }
   ],
   "source": [
    "matcorr = titanic.corr()\n",
    "print(matcorr)"
   ]
  }
 ],
 "metadata": {
  "kernelspec": {
   "display_name": "Python 3 (ipykernel)",
   "language": "python",
   "name": "python3"
  },
  "language_info": {
   "codemirror_mode": {
    "name": "ipython",
    "version": 3
   },
   "file_extension": ".py",
   "mimetype": "text/x-python",
   "name": "python",
   "nbconvert_exporter": "python",
   "pygments_lexer": "ipython3",
   "version": "3.9.13"
  }
 },
 "nbformat": 4,
 "nbformat_minor": 5
}
