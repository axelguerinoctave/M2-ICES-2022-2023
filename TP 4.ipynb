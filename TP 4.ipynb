{
 "cells": [
  {
   "cell_type": "code",
   "execution_count": 1,
   "id": "1ea07837",
   "metadata": {},
   "outputs": [],
   "source": [
    "import numpy as np\n",
    "import pandas as pd\n",
    "import matplotlib.pyplot as plt\n",
    "import seaborn as sns"
   ]
  },
  {
   "cell_type": "code",
   "execution_count": 2,
   "id": "89ff2d4f",
   "metadata": {},
   "outputs": [],
   "source": [
    "titanic = pd.read_csv(\"Data/titanic.txt\", sep = \";\")"
   ]
  },
  {
   "cell_type": "code",
   "execution_count": 3,
   "id": "655e071d",
   "metadata": {},
   "outputs": [
    {
     "name": "stdout",
     "output_type": "stream",
     "text": [
      "     Survived  Pclass                                               Name  \\\n",
      "0           0       3                             Mr. Owen Harris Braund   \n",
      "1           1       1  Mrs. John Bradley (Florence Briggs Thayer) Cum...   \n",
      "2           1       3                              Miss. Laina Heikkinen   \n",
      "3           1       1        Mrs. Jacques Heath (Lily May Peel) Futrelle   \n",
      "4           0       3                            Mr. William Henry Allen   \n",
      "..        ...     ...                                                ...   \n",
      "882         0       2                               Rev. Juozas Montvila   \n",
      "883         1       1                        Miss. Margaret Edith Graham   \n",
      "884         0       3                     Miss. Catherine Helen Johnston   \n",
      "885         1       1                               Mr. Karl Howell Behr   \n",
      "886         0       3                                 Mr. Patrick Dooley   \n",
      "\n",
      "        Sex   Age  Siblings  Parents     Fare  \n",
      "0      male  22.0         1        0   7.2500  \n",
      "1    female  38.0         1        0  71.2833  \n",
      "2    female  26.0         0        0   7.9250  \n",
      "3    female  35.0         1        0  53.1000  \n",
      "4      male  35.0         0        0   8.0500  \n",
      "..      ...   ...       ...      ...      ...  \n",
      "882    male  27.0         0        0  13.0000  \n",
      "883  female  19.0         0        0  30.0000  \n",
      "884  female   7.0         1        2  23.4500  \n",
      "885    male  26.0         0        0  30.0000  \n",
      "886    male  32.0         0        0   7.7500  \n",
      "\n",
      "[887 rows x 8 columns]\n",
      "<class 'pandas.core.frame.DataFrame'>\n",
      "RangeIndex: 887 entries, 0 to 886\n",
      "Data columns (total 8 columns):\n",
      " #   Column    Non-Null Count  Dtype  \n",
      "---  ------    --------------  -----  \n",
      " 0   Survived  887 non-null    int64  \n",
      " 1   Pclass    887 non-null    int64  \n",
      " 2   Name      887 non-null    object \n",
      " 3   Sex       887 non-null    object \n",
      " 4   Age       887 non-null    float64\n",
      " 5   Siblings  887 non-null    int64  \n",
      " 6   Parents   887 non-null    int64  \n",
      " 7   Fare      887 non-null    float64\n",
      "dtypes: float64(2), int64(4), object(2)\n",
      "memory usage: 55.6+ KB\n",
      "None\n"
     ]
    }
   ],
   "source": [
    "#del titanic[\"Name\"] pour supprimer une colonne\n",
    "\n",
    "print(titanic)\n",
    "print(titanic.info())"
   ]
  },
  {
   "cell_type": "code",
   "execution_count": 31,
   "id": "f11cb185",
   "metadata": {},
   "outputs": [
    {
     "name": "stdout",
     "output_type": "stream",
     "text": [
      "0    545\n",
      "1    342\n",
      "Name: Survived, dtype: int64\n",
      "3    487\n",
      "1    216\n",
      "2    184\n",
      "Name: Pclass, dtype: int64\n",
      "1    573\n",
      "0    314\n",
      "Name: Sex, dtype: int64\n",
      "22.00    39\n",
      "28.00    37\n",
      "18.00    36\n",
      "21.00    34\n",
      "24.00    34\n",
      "         ..\n",
      "0.92      1\n",
      "23.50     1\n",
      "36.50     1\n",
      "55.50     1\n",
      "74.00     1\n",
      "Name: Age, Length: 89, dtype: int64\n",
      "0    604\n",
      "1    209\n",
      "2     28\n",
      "4     18\n",
      "3     16\n",
      "8      7\n",
      "5      5\n",
      "Name: Siblings, dtype: int64\n",
      "0    674\n",
      "1    118\n",
      "2     80\n",
      "5      5\n",
      "3      5\n",
      "4      4\n",
      "6      1\n",
      "Name: Parents, dtype: int64\n",
      "8.0500     43\n",
      "13.0000    42\n",
      "7.8958     36\n",
      "7.7500     33\n",
      "26.0000    31\n",
      "           ..\n",
      "35.0000     1\n",
      "28.5000     1\n",
      "6.2375      1\n",
      "14.0000     1\n",
      "10.5167     1\n",
      "Name: Fare, Length: 248, dtype: int64\n"
     ]
    }
   ],
   "source": [
    "print(titanic[\"Survived\"].value_counts())\n",
    "print(titanic[\"Pclass\"].value_counts())\n",
    "print(titanic[\"Sex\"].value_counts())\n",
    "print(titanic[\"Age\"].value_counts())\n",
    "print(titanic[\"Siblings\"].value_counts())\n",
    "print(titanic[\"Parents\"].value_counts())\n",
    "print(titanic[\"Fare\"].value_counts())"
   ]
  },
  {
   "cell_type": "code",
   "execution_count": 9,
   "id": "c58cb78a",
   "metadata": {},
   "outputs": [
    {
     "name": "stdout",
     "output_type": "stream",
     "text": [
      "          Survived    Pclass       Age  Siblings   Parents      Fare\n",
      "Survived  1.000000 -0.336528 -0.059665 -0.037082  0.080097  0.256179\n",
      "Pclass   -0.336528  1.000000 -0.391492  0.085026  0.020252 -0.548919\n",
      "Age      -0.059665 -0.391492  1.000000 -0.297669 -0.193741  0.112329\n",
      "Siblings -0.037082  0.085026 -0.297669  1.000000  0.414244  0.158839\n",
      "Parents   0.080097  0.020252 -0.193741  0.414244  1.000000  0.215470\n",
      "Fare      0.256179 -0.548919  0.112329  0.158839  0.215470  1.000000\n"
     ]
    }
   ],
   "source": [
    "matcorr = titanic.corr()\n",
    "print(matcorr)"
   ]
  },
  {
   "cell_type": "code",
   "execution_count": 12,
   "id": "55a6156a",
   "metadata": {},
   "outputs": [],
   "source": [
    "titanic[\"Sex\"] = titanic[\"Sex\"].astype(\"category\")\n",
    "cat_columns = titanic.select_dtypes([\"category\"]).columns\n",
    "titanic[cat_columns] = titanic[cat_columns].apply(lambda x: x.cat.codes)"
   ]
  },
  {
   "cell_type": "code",
   "execution_count": 14,
   "id": "b7b60081",
   "metadata": {},
   "outputs": [
    {
     "name": "stdout",
     "output_type": "stream",
     "text": [
      "          Survived    Pclass       Sex       Age  Siblings   Parents      Fare\n",
      "Survived  1.000000 -0.336528 -0.542152 -0.059665 -0.037082  0.080097  0.256179\n",
      "Pclass   -0.336528  1.000000  0.129507 -0.391492  0.085026  0.020252 -0.548919\n",
      "Sex      -0.542152  0.129507  1.000000  0.091875 -0.113249 -0.244337 -0.181137\n",
      "Age      -0.059665 -0.391492  0.091875  1.000000 -0.297669 -0.193741  0.112329\n",
      "Siblings -0.037082  0.085026 -0.113249 -0.297669  1.000000  0.414244  0.158839\n",
      "Parents   0.080097  0.020252 -0.244337 -0.193741  0.414244  1.000000  0.215470\n",
      "Fare      0.256179 -0.548919 -0.181137  0.112329  0.158839  0.215470  1.000000\n"
     ]
    }
   ],
   "source": [
    "matcorr = titanic.corr()\n",
    "print(matcorr)"
   ]
  },
  {
   "cell_type": "code",
   "execution_count": 16,
   "id": "54b06122",
   "metadata": {},
   "outputs": [
    {
     "data": {
      "text/plain": [
       "0      1\n",
       "1      0\n",
       "2      0\n",
       "3      0\n",
       "4      1\n",
       "      ..\n",
       "882    1\n",
       "883    0\n",
       "884    0\n",
       "885    1\n",
       "886    1\n",
       "Name: Sex, Length: 887, dtype: int8"
      ]
     },
     "execution_count": 16,
     "metadata": {},
     "output_type": "execute_result"
    }
   ],
   "source": [
    "titanic[\"Sex\"] \n",
    "# \"1\" -> \"male\"\n",
    "# \"0\" -> \"female\""
   ]
  },
  {
   "cell_type": "code",
   "execution_count": 21,
   "id": "e4ef662e",
   "metadata": {},
   "outputs": [
    {
     "data": {
      "text/html": [
       "<div>\n",
       "<style scoped>\n",
       "    .dataframe tbody tr th:only-of-type {\n",
       "        vertical-align: middle;\n",
       "    }\n",
       "\n",
       "    .dataframe tbody tr th {\n",
       "        vertical-align: top;\n",
       "    }\n",
       "\n",
       "    .dataframe thead th {\n",
       "        text-align: right;\n",
       "    }\n",
       "</style>\n",
       "<table border=\"1\" class=\"dataframe\">\n",
       "  <thead>\n",
       "    <tr style=\"text-align: right;\">\n",
       "      <th></th>\n",
       "      <th>Female</th>\n",
       "      <th>Male</th>\n",
       "    </tr>\n",
       "  </thead>\n",
       "  <tbody>\n",
       "    <tr>\n",
       "      <th>Survived</th>\n",
       "      <td>233</td>\n",
       "      <td>109</td>\n",
       "    </tr>\n",
       "    <tr>\n",
       "      <th>Dead</th>\n",
       "      <td>81</td>\n",
       "      <td>464</td>\n",
       "    </tr>\n",
       "  </tbody>\n",
       "</table>\n",
       "</div>"
      ],
      "text/plain": [
       "          Female  Male\n",
       "Survived     233   109\n",
       "Dead          81   464"
      ]
     },
     "execution_count": 21,
     "metadata": {},
     "output_type": "execute_result"
    }
   ],
   "source": [
    "survived = titanic[titanic[\"Survived\"] == 1][\"Sex\"].value_counts()\n",
    "dead = titanic[titanic[\"Survived\"] == 0][\"Sex\"].value_counts()\n",
    "df = pd.DataFrame([survived, dead])\n",
    "df.index = [\"Survived\", \"Dead\"]\n",
    "df.columns = [\"Female\", \"Male\"]\n",
    "df"
   ]
  },
  {
   "cell_type": "code",
   "execution_count": 24,
   "id": "e7163ae3",
   "metadata": {},
   "outputs": [
    {
     "data": {
      "text/plain": [
       "<AxesSubplot:>"
      ]
     },
     "execution_count": 24,
     "metadata": {},
     "output_type": "execute_result"
    },
    {
     "data": {
      "image/png": "[encoded data removed]",
      "text/plain": [
       "<Figure size 300x200 with 1 Axes>"
      ]
     },
     "metadata": {},
     "output_type": "display_data"
    }
   ],
   "source": [
    "df.plot(kind = \"bar\", stacked = True, figsize = (3, 2))"
   ]
  },
  {
   "cell_type": "code",
   "execution_count": 26,
   "id": "7a4aca10",
   "metadata": {},
   "outputs": [
    {
     "data": {
      "text/html": [
       "<div>\n",
       "<style scoped>\n",
       "    .dataframe tbody tr th:only-of-type {\n",
       "        vertical-align: middle;\n",
       "    }\n",
       "\n",
       "    .dataframe tbody tr th {\n",
       "        vertical-align: top;\n",
       "    }\n",
       "\n",
       "    .dataframe thead th {\n",
       "        text-align: right;\n",
       "    }\n",
       "</style>\n",
       "<table border=\"1\" class=\"dataframe\">\n",
       "  <thead>\n",
       "    <tr style=\"text-align: right;\">\n",
       "      <th></th>\n",
       "      <th>1</th>\n",
       "      <th>3</th>\n",
       "      <th>2</th>\n",
       "    </tr>\n",
       "  </thead>\n",
       "  <tbody>\n",
       "    <tr>\n",
       "      <th>Survived</th>\n",
       "      <td>136</td>\n",
       "      <td>119</td>\n",
       "      <td>87</td>\n",
       "    </tr>\n",
       "    <tr>\n",
       "      <th>Dead</th>\n",
       "      <td>80</td>\n",
       "      <td>368</td>\n",
       "      <td>97</td>\n",
       "    </tr>\n",
       "  </tbody>\n",
       "</table>\n",
       "</div>"
      ],
      "text/plain": [
       "            1    3   2\n",
       "Survived  136  119  87\n",
       "Dead       80  368  97"
      ]
     },
     "execution_count": 26,
     "metadata": {},
     "output_type": "execute_result"
    }
   ],
   "source": [
    "survived = titanic[titanic[\"Survived\"] == 1][\"Pclass\"].value_counts()\n",
    "dead = titanic[titanic[\"Survived\"] == 0][\"Pclass\"].value_counts()\n",
    "df = pd.DataFrame([survived, dead])\n",
    "df.index = [\"Survived\", \"Dead\"]\n",
    "df"
   ]
  },
  {
   "cell_type": "code",
   "execution_count": 27,
   "id": "8b8a46c7",
   "metadata": {},
   "outputs": [
    {
     "data": {
      "text/plain": [
       "<AxesSubplot:>"
      ]
     },
     "execution_count": 27,
     "metadata": {},
     "output_type": "execute_result"
    },
    {
     "data": {
      "image/png": "[encoded data removed]",
      "text/plain": [
       "<Figure size 300x200 with 1 Axes>"
      ]
     },
     "metadata": {},
     "output_type": "display_data"
    }
   ],
   "source": [
    "df.plot(kind = \"bar\", stacked = True, figsize = (3, 2))"
   ]
  },
  {
   "cell_type": "code",
   "execution_count": 28,
   "id": "6b13d871",
   "metadata": {
    "scrolled": true
   },
   "outputs": [
    {
     "data": {
      "text/html": [
       "<div>\n",
       "<style scoped>\n",
       "    .dataframe tbody tr th:only-of-type {\n",
       "        vertical-align: middle;\n",
       "    }\n",
       "\n",
       "    .dataframe tbody tr th {\n",
       "        vertical-align: top;\n",
       "    }\n",
       "\n",
       "    .dataframe thead th {\n",
       "        text-align: right;\n",
       "    }\n",
       "</style>\n",
       "<table border=\"1\" class=\"dataframe\">\n",
       "  <thead>\n",
       "    <tr style=\"text-align: right;\">\n",
       "      <th></th>\n",
       "      <th>Survived</th>\n",
       "      <th>Dead</th>\n",
       "    </tr>\n",
       "  </thead>\n",
       "  <tbody>\n",
       "    <tr>\n",
       "      <th>F1</th>\n",
       "      <td>91</td>\n",
       "      <td>3</td>\n",
       "    </tr>\n",
       "    <tr>\n",
       "      <th>F2</th>\n",
       "      <td>70</td>\n",
       "      <td>6</td>\n",
       "    </tr>\n",
       "    <tr>\n",
       "      <th>F3</th>\n",
       "      <td>72</td>\n",
       "      <td>72</td>\n",
       "    </tr>\n",
       "    <tr>\n",
       "      <th>H1</th>\n",
       "      <td>45</td>\n",
       "      <td>77</td>\n",
       "    </tr>\n",
       "    <tr>\n",
       "      <th>H2</th>\n",
       "      <td>17</td>\n",
       "      <td>91</td>\n",
       "    </tr>\n",
       "    <tr>\n",
       "      <th>H3</th>\n",
       "      <td>47</td>\n",
       "      <td>296</td>\n",
       "    </tr>\n",
       "  </tbody>\n",
       "</table>\n",
       "</div>"
      ],
      "text/plain": [
       "    Survived  Dead\n",
       "F1        91     3\n",
       "F2        70     6\n",
       "F3        72    72\n",
       "H1        45    77\n",
       "H2        17    91\n",
       "H3        47   296"
      ]
     },
     "execution_count": 28,
     "metadata": {},
     "output_type": "execute_result"
    }
   ],
   "source": [
    "F1 = titanic.query(\"Sex == 0 & Pclass == 1\")[\"Survived\"].value_counts()\n",
    "F2 = titanic.query(\"Sex == 0 & Pclass == 2\")[\"Survived\"].value_counts()\n",
    "F3 = titanic.query(\"Sex == 0 & Pclass == 3\")[\"Survived\"].value_counts()\n",
    "H1 = titanic.query(\"Sex == 1 & Pclass == 1\")[\"Survived\"].value_counts()\n",
    "H2 = titanic.query(\"Sex == 1 & Pclass == 2\")[\"Survived\"].value_counts()\n",
    "H3 = titanic.query(\"Sex == 1 & Pclass == 3\")[\"Survived\"].value_counts()\n",
    "df = pd.DataFrame([F1, F2, F3, H1, H2, H3])\n",
    "df.columns = [\"Survived\", \"Dead\"]\n",
    "df.index = [\"F1\", \"F2\", \"F3\", \"H1\", \"H2\", \"H3\"]\n",
    "df"
   ]
  },
  {
   "cell_type": "code",
   "execution_count": 30,
   "id": "f93ac11f",
   "metadata": {},
   "outputs": [
    {
     "data": {
      "text/plain": [
       "<AxesSubplot:>"
      ]
     },
     "execution_count": 30,
     "metadata": {},
     "output_type": "execute_result"
    },
    {
     "data": {
      "image/png": "[encoded data removed]",
      "text/plain": [
       "<Figure size 500x300 with 1 Axes>"
      ]
     },
     "metadata": {},
     "output_type": "display_data"
    }
   ],
   "source": [
    "df.plot(kind = \"bar\", stacked = True, figsize = (5, 3))"
   ]
  },
  {
   "cell_type": "code",
   "execution_count": null,
   "id": "1918347d",
   "metadata": {},
   "outputs": [],
   "source": []
  }
 ],
 "metadata": {
  "kernelspec": {
   "display_name": "Python 3 (ipykernel)",
   "language": "python",
   "name": "python3"
  },
  "language_info": {
   "codemirror_mode": {
    "name": "ipython",
    "version": 3
   },
   "file_extension": ".py",
   "mimetype": "text/x-python",
   "name": "python",
   "nbconvert_exporter": "python",
   "pygments_lexer": "ipython3",
   "version": "3.9.13"
  }
 },
 "nbformat": 4,
 "nbformat_minor": 5
}
