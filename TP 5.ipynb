{
 "cells": [
  {
   "cell_type": "markdown",
   "id": "8cd9263f",
   "metadata": {},
   "source": [
    "## ANOVA"
   ]
  },
  {
   "cell_type": "code",
   "execution_count": 1,
   "id": "3f73ce6d",
   "metadata": {},
   "outputs": [],
   "source": [
    "import pandas as pd"
   ]
  },
  {
   "cell_type": "code",
   "execution_count": 6,
   "id": "c120fd93",
   "metadata": {},
   "outputs": [],
   "source": [
    "df = pd.read_csv(\"data/anova_sample.txt\", sep = \"\\t\")"
   ]
  },
  {
   "cell_type": "code",
   "execution_count": 7,
   "id": "3f5150ce",
   "metadata": {},
   "outputs": [
    {
     "data": {
      "text/html": [
       "<div>\n",
       "<style scoped>\n",
       "    .dataframe tbody tr th:only-of-type {\n",
       "        vertical-align: middle;\n",
       "    }\n",
       "\n",
       "    .dataframe tbody tr th {\n",
       "        vertical-align: top;\n",
       "    }\n",
       "\n",
       "    .dataframe thead th {\n",
       "        text-align: right;\n",
       "    }\n",
       "</style>\n",
       "<table border=\"1\" class=\"dataframe\">\n",
       "  <thead>\n",
       "    <tr style=\"text-align: right;\">\n",
       "      <th></th>\n",
       "      <th>A</th>\n",
       "      <th>B</th>\n",
       "      <th>C</th>\n",
       "      <th>D</th>\n",
       "    </tr>\n",
       "  </thead>\n",
       "  <tbody>\n",
       "    <tr>\n",
       "      <th>0</th>\n",
       "      <td>25</td>\n",
       "      <td>45</td>\n",
       "      <td>30</td>\n",
       "      <td>54</td>\n",
       "    </tr>\n",
       "    <tr>\n",
       "      <th>1</th>\n",
       "      <td>30</td>\n",
       "      <td>55</td>\n",
       "      <td>29</td>\n",
       "      <td>60</td>\n",
       "    </tr>\n",
       "    <tr>\n",
       "      <th>2</th>\n",
       "      <td>28</td>\n",
       "      <td>29</td>\n",
       "      <td>33</td>\n",
       "      <td>51</td>\n",
       "    </tr>\n",
       "    <tr>\n",
       "      <th>3</th>\n",
       "      <td>36</td>\n",
       "      <td>56</td>\n",
       "      <td>37</td>\n",
       "      <td>62</td>\n",
       "    </tr>\n",
       "    <tr>\n",
       "      <th>4</th>\n",
       "      <td>29</td>\n",
       "      <td>40</td>\n",
       "      <td>27</td>\n",
       "      <td>73</td>\n",
       "    </tr>\n",
       "  </tbody>\n",
       "</table>\n",
       "</div>"
      ],
      "text/plain": [
       "    A   B   C   D\n",
       "0  25  45  30  54\n",
       "1  30  55  29  60\n",
       "2  28  29  33  51\n",
       "3  36  56  37  62\n",
       "4  29  40  27  73"
      ]
     },
     "execution_count": 7,
     "metadata": {},
     "output_type": "execute_result"
    }
   ],
   "source": [
    "df"
   ]
  },
  {
   "cell_type": "code",
   "execution_count": 8,
   "id": "50503ae0",
   "metadata": {},
   "outputs": [],
   "source": [
    "df_melt = pd.melt(df.reset_index(), id_vars = [\"index\"], value_vars = [\"A\", \"B\", \"C\", \"D\"])"
   ]
  },
  {
   "cell_type": "code",
   "execution_count": 9,
   "id": "371c06c5",
   "metadata": {},
   "outputs": [
    {
     "data": {
      "text/html": [
       "<div>\n",
       "<style scoped>\n",
       "    .dataframe tbody tr th:only-of-type {\n",
       "        vertical-align: middle;\n",
       "    }\n",
       "\n",
       "    .dataframe tbody tr th {\n",
       "        vertical-align: top;\n",
       "    }\n",
       "\n",
       "    .dataframe thead th {\n",
       "        text-align: right;\n",
       "    }\n",
       "</style>\n",
       "<table border=\"1\" class=\"dataframe\">\n",
       "  <thead>\n",
       "    <tr style=\"text-align: right;\">\n",
       "      <th></th>\n",
       "      <th>index</th>\n",
       "      <th>variable</th>\n",
       "      <th>value</th>\n",
       "    </tr>\n",
       "  </thead>\n",
       "  <tbody>\n",
       "    <tr>\n",
       "      <th>0</th>\n",
       "      <td>0</td>\n",
       "      <td>A</td>\n",
       "      <td>25</td>\n",
       "    </tr>\n",
       "    <tr>\n",
       "      <th>1</th>\n",
       "      <td>1</td>\n",
       "      <td>A</td>\n",
       "      <td>30</td>\n",
       "    </tr>\n",
       "    <tr>\n",
       "      <th>2</th>\n",
       "      <td>2</td>\n",
       "      <td>A</td>\n",
       "      <td>28</td>\n",
       "    </tr>\n",
       "    <tr>\n",
       "      <th>3</th>\n",
       "      <td>3</td>\n",
       "      <td>A</td>\n",
       "      <td>36</td>\n",
       "    </tr>\n",
       "    <tr>\n",
       "      <th>4</th>\n",
       "      <td>4</td>\n",
       "      <td>A</td>\n",
       "      <td>29</td>\n",
       "    </tr>\n",
       "    <tr>\n",
       "      <th>5</th>\n",
       "      <td>0</td>\n",
       "      <td>B</td>\n",
       "      <td>45</td>\n",
       "    </tr>\n",
       "    <tr>\n",
       "      <th>6</th>\n",
       "      <td>1</td>\n",
       "      <td>B</td>\n",
       "      <td>55</td>\n",
       "    </tr>\n",
       "    <tr>\n",
       "      <th>7</th>\n",
       "      <td>2</td>\n",
       "      <td>B</td>\n",
       "      <td>29</td>\n",
       "    </tr>\n",
       "    <tr>\n",
       "      <th>8</th>\n",
       "      <td>3</td>\n",
       "      <td>B</td>\n",
       "      <td>56</td>\n",
       "    </tr>\n",
       "    <tr>\n",
       "      <th>9</th>\n",
       "      <td>4</td>\n",
       "      <td>B</td>\n",
       "      <td>40</td>\n",
       "    </tr>\n",
       "    <tr>\n",
       "      <th>10</th>\n",
       "      <td>0</td>\n",
       "      <td>C</td>\n",
       "      <td>30</td>\n",
       "    </tr>\n",
       "    <tr>\n",
       "      <th>11</th>\n",
       "      <td>1</td>\n",
       "      <td>C</td>\n",
       "      <td>29</td>\n",
       "    </tr>\n",
       "    <tr>\n",
       "      <th>12</th>\n",
       "      <td>2</td>\n",
       "      <td>C</td>\n",
       "      <td>33</td>\n",
       "    </tr>\n",
       "    <tr>\n",
       "      <th>13</th>\n",
       "      <td>3</td>\n",
       "      <td>C</td>\n",
       "      <td>37</td>\n",
       "    </tr>\n",
       "    <tr>\n",
       "      <th>14</th>\n",
       "      <td>4</td>\n",
       "      <td>C</td>\n",
       "      <td>27</td>\n",
       "    </tr>\n",
       "    <tr>\n",
       "      <th>15</th>\n",
       "      <td>0</td>\n",
       "      <td>D</td>\n",
       "      <td>54</td>\n",
       "    </tr>\n",
       "    <tr>\n",
       "      <th>16</th>\n",
       "      <td>1</td>\n",
       "      <td>D</td>\n",
       "      <td>60</td>\n",
       "    </tr>\n",
       "    <tr>\n",
       "      <th>17</th>\n",
       "      <td>2</td>\n",
       "      <td>D</td>\n",
       "      <td>51</td>\n",
       "    </tr>\n",
       "    <tr>\n",
       "      <th>18</th>\n",
       "      <td>3</td>\n",
       "      <td>D</td>\n",
       "      <td>62</td>\n",
       "    </tr>\n",
       "    <tr>\n",
       "      <th>19</th>\n",
       "      <td>4</td>\n",
       "      <td>D</td>\n",
       "      <td>73</td>\n",
       "    </tr>\n",
       "  </tbody>\n",
       "</table>\n",
       "</div>"
      ],
      "text/plain": [
       "    index variable  value\n",
       "0       0        A     25\n",
       "1       1        A     30\n",
       "2       2        A     28\n",
       "3       3        A     36\n",
       "4       4        A     29\n",
       "5       0        B     45\n",
       "6       1        B     55\n",
       "7       2        B     29\n",
       "8       3        B     56\n",
       "9       4        B     40\n",
       "10      0        C     30\n",
       "11      1        C     29\n",
       "12      2        C     33\n",
       "13      3        C     37\n",
       "14      4        C     27\n",
       "15      0        D     54\n",
       "16      1        D     60\n",
       "17      2        D     51\n",
       "18      3        D     62\n",
       "19      4        D     73"
      ]
     },
     "execution_count": 9,
     "metadata": {},
     "output_type": "execute_result"
    }
   ],
   "source": [
    "df_melt"
   ]
  },
  {
   "cell_type": "code",
   "execution_count": 10,
   "id": "1df02ad6",
   "metadata": {},
   "outputs": [],
   "source": [
    "import matplotlib.pyplot as plt\n",
    "import seaborn as sns"
   ]
  },
  {
   "cell_type": "code",
   "execution_count": 11,
   "id": "42a5f6c9",
   "metadata": {},
   "outputs": [
    {
     "data": {
      "image/png": "[encoded data removed]",
      "text/plain": [
       "<Figure size 640x480 with 1 Axes>"
      ]
     },
     "metadata": {},
     "output_type": "display_data"
    }
   ],
   "source": [
    "ax = sns.boxplot(x = \"variable\", y = \"value\", data = df_melt)"
   ]
  },
  {
   "cell_type": "code",
   "execution_count": 12,
   "id": "ef0d9ef1",
   "metadata": {},
   "outputs": [
    {
     "data": {
      "image/png": "[encoded data removed]",
      "text/plain": [
       "<Figure size 640x480 with 1 Axes>"
      ]
     },
     "metadata": {},
     "output_type": "display_data"
    }
   ],
   "source": [
    "ax = sns.swarmplot(x = \"variable\", y = \"value\", data = df_melt)"
   ]
  },
  {
   "cell_type": "code",
   "execution_count": 13,
   "id": "993f94b3",
   "metadata": {},
   "outputs": [],
   "source": [
    "import scipy.stats as stats"
   ]
  },
  {
   "cell_type": "code",
   "execution_count": 14,
   "id": "d5ef3dff",
   "metadata": {},
   "outputs": [],
   "source": [
    "fvalue, pvalue = stats.f_oneway(df[\"A\"], df[\"B\"], df[\"C\"], df[\"D\"])"
   ]
  },
  {
   "cell_type": "code",
   "execution_count": 15,
   "id": "3d95df2d",
   "metadata": {},
   "outputs": [
    {
     "data": {
      "text/plain": [
       "(17.492810457516338, 2.639241146210922e-05)"
      ]
     },
     "execution_count": 15,
     "metadata": {},
     "output_type": "execute_result"
    }
   ],
   "source": [
    "fvalue, pvalue"
   ]
  },
  {
   "cell_type": "code",
   "execution_count": 17,
   "id": "d0963534",
   "metadata": {},
   "outputs": [],
   "source": [
    "import statsmodels.api as sm\n",
    "from statsmodels.formula.api import ols"
   ]
  },
  {
   "cell_type": "code",
   "execution_count": 18,
   "id": "6b5d7214",
   "metadata": {},
   "outputs": [
    {
     "data": {
      "text/html": [
       "<div>\n",
       "<style scoped>\n",
       "    .dataframe tbody tr th:only-of-type {\n",
       "        vertical-align: middle;\n",
       "    }\n",
       "\n",
       "    .dataframe tbody tr th {\n",
       "        vertical-align: top;\n",
       "    }\n",
       "\n",
       "    .dataframe thead th {\n",
       "        text-align: right;\n",
       "    }\n",
       "</style>\n",
       "<table border=\"1\" class=\"dataframe\">\n",
       "  <thead>\n",
       "    <tr style=\"text-align: right;\">\n",
       "      <th></th>\n",
       "      <th>df</th>\n",
       "      <th>sum_sq</th>\n",
       "      <th>mean_sq</th>\n",
       "      <th>F</th>\n",
       "      <th>PR(&gt;F)</th>\n",
       "    </tr>\n",
       "  </thead>\n",
       "  <tbody>\n",
       "    <tr>\n",
       "      <th>C(variable)</th>\n",
       "      <td>3.0</td>\n",
       "      <td>3010.95</td>\n",
       "      <td>1003.650</td>\n",
       "      <td>17.49281</td>\n",
       "      <td>0.000026</td>\n",
       "    </tr>\n",
       "    <tr>\n",
       "      <th>Residual</th>\n",
       "      <td>16.0</td>\n",
       "      <td>918.00</td>\n",
       "      <td>57.375</td>\n",
       "      <td>NaN</td>\n",
       "      <td>NaN</td>\n",
       "    </tr>\n",
       "  </tbody>\n",
       "</table>\n",
       "</div>"
      ],
      "text/plain": [
       "               df   sum_sq   mean_sq         F    PR(>F)\n",
       "C(variable)   3.0  3010.95  1003.650  17.49281  0.000026\n",
       "Residual     16.0   918.00    57.375       NaN       NaN"
      ]
     },
     "execution_count": 18,
     "metadata": {},
     "output_type": "execute_result"
    }
   ],
   "source": [
    "model = ols(\"value ~ C(variable)\", data = df_melt).fit()\n",
    "anova_table = sm.stats.anova_lm(model, type = 2)\n",
    "anova_table"
   ]
  },
  {
   "cell_type": "markdown",
   "id": "0d847376",
   "metadata": {},
   "source": [
    "## Test du Student"
   ]
  },
  {
   "cell_type": "code",
   "execution_count": 28,
   "id": "f8b33e1b",
   "metadata": {},
   "outputs": [],
   "source": [
    "X1 = [1, 1, 1, 2, 1]\n",
    "X2 = [4, 2, 3, 1, 1]"
   ]
  },
  {
   "cell_type": "code",
   "execution_count": 29,
   "id": "e25786b3",
   "metadata": {},
   "outputs": [
    {
     "data": {
      "text/plain": [
       "([1, 1, 1, 2, 1], [4, 2, 3, 1, 1])"
      ]
     },
     "execution_count": 29,
     "metadata": {},
     "output_type": "execute_result"
    }
   ],
   "source": [
    "X1, X2"
   ]
  },
  {
   "cell_type": "code",
   "execution_count": 30,
   "id": "1ad5db58",
   "metadata": {},
   "outputs": [],
   "source": [
    "x1, pval1 = stats.shapiro(X1)\n",
    "x2, pval2 = stats.shapiro(X2)"
   ]
  },
  {
   "cell_type": "code",
   "execution_count": 31,
   "id": "bd001f74",
   "metadata": {},
   "outputs": [
    {
     "data": {
      "text/plain": [
       "(0.00013097876217216253, 0.4211485683917999)"
      ]
     },
     "execution_count": 31,
     "metadata": {},
     "output_type": "execute_result"
    }
   ],
   "source": [
    "pval1, pval2"
   ]
  },
  {
   "cell_type": "code",
   "execution_count": 32,
   "id": "2cf17dc5",
   "metadata": {},
   "outputs": [],
   "source": [
    "y = stats.ttest_ind(X1, X2)"
   ]
  },
  {
   "cell_type": "code",
   "execution_count": 33,
   "id": "29e919b5",
   "metadata": {},
   "outputs": [
    {
     "data": {
      "text/plain": [
       "Ttest_indResult(statistic=-1.6222142113076257, pvalue=0.14341462050621775)"
      ]
     },
     "execution_count": 33,
     "metadata": {},
     "output_type": "execute_result"
    }
   ],
   "source": [
    "y"
   ]
  },
  {
   "cell_type": "markdown",
   "id": "c2ca3da5",
   "metadata": {},
   "source": [
    "## Test du χ²"
   ]
  },
  {
   "cell_type": "code",
   "execution_count": 34,
   "id": "054c2eb5",
   "metadata": {},
   "outputs": [],
   "source": [
    "data = [['18-29', 'Conservative'] for i in range(141)] + \\\n",
    "        [['18-29', 'Socialist'] for i in range(68)] + \\\n",
    "        [['18-29', 'Other'] for i in range(4)] + \\\n",
    "        [['30-44', 'Conservative'] for i in range(179)] + \\\n",
    "        [['30-44', 'Socialist'] for i in range(159)] + \\\n",
    "        [['30-44', 'Other'] for i in range(7)] + \\\n",
    "        [['45-65', 'Conservative'] for i in range(220)] + \\\n",
    "        [['45-65', 'Socialist'] for i in range(216)] + \\\n",
    "        [['45-65', 'Other'] for i in range(4)] + \\\n",
    "        [['65 & older', 'Conservative'] for i in range(86)] + \\\n",
    "        [['65 & older', 'Socialist'] for i in range(101)] + \\\n",
    "        [['65 & older', 'Other'] for i in range(4)]"
   ]
  },
  {
   "cell_type": "code",
   "execution_count": 36,
   "id": "e01a33e0",
   "metadata": {},
   "outputs": [],
   "source": [
    "df = pd.DataFrame(data, columns = [\"Age Group\", \"Political Affiliation\"])"
   ]
  },
  {
   "cell_type": "code",
   "execution_count": 37,
   "id": "c88a3e17",
   "metadata": {},
   "outputs": [
    {
     "data": {
      "text/html": [
       "<div>\n",
       "<style scoped>\n",
       "    .dataframe tbody tr th:only-of-type {\n",
       "        vertical-align: middle;\n",
       "    }\n",
       "\n",
       "    .dataframe tbody tr th {\n",
       "        vertical-align: top;\n",
       "    }\n",
       "\n",
       "    .dataframe thead th {\n",
       "        text-align: right;\n",
       "    }\n",
       "</style>\n",
       "<table border=\"1\" class=\"dataframe\">\n",
       "  <thead>\n",
       "    <tr style=\"text-align: right;\">\n",
       "      <th></th>\n",
       "      <th>Age Group</th>\n",
       "      <th>Political Affiliation</th>\n",
       "    </tr>\n",
       "  </thead>\n",
       "  <tbody>\n",
       "    <tr>\n",
       "      <th>0</th>\n",
       "      <td>18-29</td>\n",
       "      <td>Conservative</td>\n",
       "    </tr>\n",
       "    <tr>\n",
       "      <th>1</th>\n",
       "      <td>18-29</td>\n",
       "      <td>Conservative</td>\n",
       "    </tr>\n",
       "    <tr>\n",
       "      <th>2</th>\n",
       "      <td>18-29</td>\n",
       "      <td>Conservative</td>\n",
       "    </tr>\n",
       "    <tr>\n",
       "      <th>3</th>\n",
       "      <td>18-29</td>\n",
       "      <td>Conservative</td>\n",
       "    </tr>\n",
       "    <tr>\n",
       "      <th>4</th>\n",
       "      <td>18-29</td>\n",
       "      <td>Conservative</td>\n",
       "    </tr>\n",
       "    <tr>\n",
       "      <th>...</th>\n",
       "      <td>...</td>\n",
       "      <td>...</td>\n",
       "    </tr>\n",
       "    <tr>\n",
       "      <th>1184</th>\n",
       "      <td>65 &amp; older</td>\n",
       "      <td>Socialist</td>\n",
       "    </tr>\n",
       "    <tr>\n",
       "      <th>1185</th>\n",
       "      <td>65 &amp; older</td>\n",
       "      <td>Other</td>\n",
       "    </tr>\n",
       "    <tr>\n",
       "      <th>1186</th>\n",
       "      <td>65 &amp; older</td>\n",
       "      <td>Other</td>\n",
       "    </tr>\n",
       "    <tr>\n",
       "      <th>1187</th>\n",
       "      <td>65 &amp; older</td>\n",
       "      <td>Other</td>\n",
       "    </tr>\n",
       "    <tr>\n",
       "      <th>1188</th>\n",
       "      <td>65 &amp; older</td>\n",
       "      <td>Other</td>\n",
       "    </tr>\n",
       "  </tbody>\n",
       "</table>\n",
       "<p>1189 rows × 2 columns</p>\n",
       "</div>"
      ],
      "text/plain": [
       "       Age Group Political Affiliation\n",
       "0          18-29          Conservative\n",
       "1          18-29          Conservative\n",
       "2          18-29          Conservative\n",
       "3          18-29          Conservative\n",
       "4          18-29          Conservative\n",
       "...          ...                   ...\n",
       "1184  65 & older             Socialist\n",
       "1185  65 & older                 Other\n",
       "1186  65 & older                 Other\n",
       "1187  65 & older                 Other\n",
       "1188  65 & older                 Other\n",
       "\n",
       "[1189 rows x 2 columns]"
      ]
     },
     "execution_count": 37,
     "metadata": {},
     "output_type": "execute_result"
    }
   ],
   "source": [
    "df"
   ]
  },
  {
   "cell_type": "code",
   "execution_count": 40,
   "id": "58effff9",
   "metadata": {},
   "outputs": [
    {
     "data": {
      "text/plain": [
       "45-65         440\n",
       "30-44         345\n",
       "18-29         213\n",
       "65 & older    191\n",
       "Name: Age Group, dtype: int64"
      ]
     },
     "execution_count": 40,
     "metadata": {},
     "output_type": "execute_result"
    }
   ],
   "source": [
    "df[\"Age Group\"].value_counts()"
   ]
  },
  {
   "cell_type": "code",
   "execution_count": 41,
   "id": "76cc31b6",
   "metadata": {},
   "outputs": [
    {
     "data": {
      "text/plain": [
       "Conservative    626\n",
       "Socialist       544\n",
       "Other            19\n",
       "Name: Political Affiliation, dtype: int64"
      ]
     },
     "execution_count": 41,
     "metadata": {},
     "output_type": "execute_result"
    }
   ],
   "source": [
    "df[\"Political Affiliation\"].value_counts()"
   ]
  },
  {
   "cell_type": "code",
   "execution_count": 42,
   "id": "d734d7ba",
   "metadata": {},
   "outputs": [],
   "source": [
    "data_crosstab = pd.crosstab(df[\"Age Group\"],\n",
    "                            df[\"Political Affiliation\"],\n",
    "                            margins = True, margins_name = \"Total\")"
   ]
  },
  {
   "cell_type": "code",
   "execution_count": 43,
   "id": "659118e4",
   "metadata": {},
   "outputs": [
    {
     "data": {
      "text/html": [
       "<div>\n",
       "<style scoped>\n",
       "    .dataframe tbody tr th:only-of-type {\n",
       "        vertical-align: middle;\n",
       "    }\n",
       "\n",
       "    .dataframe tbody tr th {\n",
       "        vertical-align: top;\n",
       "    }\n",
       "\n",
       "    .dataframe thead th {\n",
       "        text-align: right;\n",
       "    }\n",
       "</style>\n",
       "<table border=\"1\" class=\"dataframe\">\n",
       "  <thead>\n",
       "    <tr style=\"text-align: right;\">\n",
       "      <th>Political Affiliation</th>\n",
       "      <th>Conservative</th>\n",
       "      <th>Other</th>\n",
       "      <th>Socialist</th>\n",
       "      <th>Total</th>\n",
       "    </tr>\n",
       "    <tr>\n",
       "      <th>Age Group</th>\n",
       "      <th></th>\n",
       "      <th></th>\n",
       "      <th></th>\n",
       "      <th></th>\n",
       "    </tr>\n",
       "  </thead>\n",
       "  <tbody>\n",
       "    <tr>\n",
       "      <th>18-29</th>\n",
       "      <td>141</td>\n",
       "      <td>4</td>\n",
       "      <td>68</td>\n",
       "      <td>213</td>\n",
       "    </tr>\n",
       "    <tr>\n",
       "      <th>30-44</th>\n",
       "      <td>179</td>\n",
       "      <td>7</td>\n",
       "      <td>159</td>\n",
       "      <td>345</td>\n",
       "    </tr>\n",
       "    <tr>\n",
       "      <th>45-65</th>\n",
       "      <td>220</td>\n",
       "      <td>4</td>\n",
       "      <td>216</td>\n",
       "      <td>440</td>\n",
       "    </tr>\n",
       "    <tr>\n",
       "      <th>65 &amp; older</th>\n",
       "      <td>86</td>\n",
       "      <td>4</td>\n",
       "      <td>101</td>\n",
       "      <td>191</td>\n",
       "    </tr>\n",
       "    <tr>\n",
       "      <th>Total</th>\n",
       "      <td>626</td>\n",
       "      <td>19</td>\n",
       "      <td>544</td>\n",
       "      <td>1189</td>\n",
       "    </tr>\n",
       "  </tbody>\n",
       "</table>\n",
       "</div>"
      ],
      "text/plain": [
       "Political Affiliation  Conservative  Other  Socialist  Total\n",
       "Age Group                                                   \n",
       "18-29                           141      4         68    213\n",
       "30-44                           179      7        159    345\n",
       "45-65                           220      4        216    440\n",
       "65 & older                       86      4        101    191\n",
       "Total                           626     19        544   1189"
      ]
     },
     "execution_count": 43,
     "metadata": {},
     "output_type": "execute_result"
    }
   ],
   "source": [
    "data_crosstab"
   ]
  },
  {
   "cell_type": "code",
   "execution_count": 44,
   "id": "077a8ee6",
   "metadata": {},
   "outputs": [],
   "source": [
    "rows = df[\"Age Group\"].unique()"
   ]
  },
  {
   "cell_type": "code",
   "execution_count": 45,
   "id": "f50640aa",
   "metadata": {},
   "outputs": [
    {
     "data": {
      "text/plain": [
       "array(['18-29', '30-44', '45-65', '65 & older'], dtype=object)"
      ]
     },
     "execution_count": 45,
     "metadata": {},
     "output_type": "execute_result"
    }
   ],
   "source": [
    "rows"
   ]
  },
  {
   "cell_type": "code",
   "execution_count": 46,
   "id": "ae95063c",
   "metadata": {},
   "outputs": [],
   "source": [
    "columns = df[\"Political Affiliation\"].unique()"
   ]
  },
  {
   "cell_type": "code",
   "execution_count": 47,
   "id": "46e85ca3",
   "metadata": {},
   "outputs": [
    {
     "data": {
      "text/plain": [
       "array(['Conservative', 'Socialist', 'Other'], dtype=object)"
      ]
     },
     "execution_count": 47,
     "metadata": {},
     "output_type": "execute_result"
    }
   ],
   "source": [
    "columns"
   ]
  },
  {
   "cell_type": "code",
   "execution_count": 51,
   "id": "8908fea0",
   "metadata": {},
   "outputs": [],
   "source": [
    "chi_square, p_value, deg_lib, expected = stats.chi2_contingency(data_crosstab.values[:-1, :-1])"
   ]
  },
  {
   "cell_type": "code",
   "execution_count": 52,
   "id": "e7620f57",
   "metadata": {},
   "outputs": [
    {
     "name": "stdout",
     "output_type": "stream",
     "text": [
      "Statistique du chi2 : 24.367421717305206\n",
      "Degrés de liberté : 6\n",
      "P-value : 0.00044690833914947634\n"
     ]
    }
   ],
   "source": [
    "print(\"Statistique du chi2 :\", chi_square)\n",
    "print(\"Degrés de liberté :\", deg_lib)\n",
    "print(\"P-value :\", p_value)"
   ]
  },
  {
   "cell_type": "markdown",
   "id": "1abc2ba1",
   "metadata": {},
   "source": [
    "## Test de Wilcoxon"
   ]
  },
  {
   "cell_type": "code",
   "execution_count": 58,
   "id": "b2352075",
   "metadata": {},
   "outputs": [],
   "source": [
    "df = pd.read_csv(\"data/blood_pressure.txt\", sep = \"\\t\")"
   ]
  },
  {
   "cell_type": "code",
   "execution_count": 59,
   "id": "1fe7a0a0",
   "metadata": {},
   "outputs": [
    {
     "data": {
      "text/html": [
       "<div>\n",
       "<style scoped>\n",
       "    .dataframe tbody tr th:only-of-type {\n",
       "        vertical-align: middle;\n",
       "    }\n",
       "\n",
       "    .dataframe tbody tr th {\n",
       "        vertical-align: top;\n",
       "    }\n",
       "\n",
       "    .dataframe thead th {\n",
       "        text-align: right;\n",
       "    }\n",
       "</style>\n",
       "<table border=\"1\" class=\"dataframe\">\n",
       "  <thead>\n",
       "    <tr style=\"text-align: right;\">\n",
       "      <th></th>\n",
       "      <th>patient</th>\n",
       "      <th>sex</th>\n",
       "      <th>agegrp</th>\n",
       "      <th>bp_before</th>\n",
       "      <th>bp_after</th>\n",
       "    </tr>\n",
       "  </thead>\n",
       "  <tbody>\n",
       "    <tr>\n",
       "      <th>0</th>\n",
       "      <td>1</td>\n",
       "      <td>Male</td>\n",
       "      <td>30-45</td>\n",
       "      <td>143</td>\n",
       "      <td>153</td>\n",
       "    </tr>\n",
       "    <tr>\n",
       "      <th>1</th>\n",
       "      <td>2</td>\n",
       "      <td>Male</td>\n",
       "      <td>30-45</td>\n",
       "      <td>163</td>\n",
       "      <td>170</td>\n",
       "    </tr>\n",
       "    <tr>\n",
       "      <th>2</th>\n",
       "      <td>3</td>\n",
       "      <td>Male</td>\n",
       "      <td>30-45</td>\n",
       "      <td>153</td>\n",
       "      <td>168</td>\n",
       "    </tr>\n",
       "    <tr>\n",
       "      <th>3</th>\n",
       "      <td>4</td>\n",
       "      <td>Male</td>\n",
       "      <td>30-45</td>\n",
       "      <td>153</td>\n",
       "      <td>142</td>\n",
       "    </tr>\n",
       "    <tr>\n",
       "      <th>4</th>\n",
       "      <td>5</td>\n",
       "      <td>Male</td>\n",
       "      <td>30-45</td>\n",
       "      <td>146</td>\n",
       "      <td>141</td>\n",
       "    </tr>\n",
       "    <tr>\n",
       "      <th>...</th>\n",
       "      <td>...</td>\n",
       "      <td>...</td>\n",
       "      <td>...</td>\n",
       "      <td>...</td>\n",
       "      <td>...</td>\n",
       "    </tr>\n",
       "    <tr>\n",
       "      <th>115</th>\n",
       "      <td>116</td>\n",
       "      <td>Female</td>\n",
       "      <td>60+</td>\n",
       "      <td>152</td>\n",
       "      <td>152</td>\n",
       "    </tr>\n",
       "    <tr>\n",
       "      <th>116</th>\n",
       "      <td>117</td>\n",
       "      <td>Female</td>\n",
       "      <td>60+</td>\n",
       "      <td>161</td>\n",
       "      <td>152</td>\n",
       "    </tr>\n",
       "    <tr>\n",
       "      <th>117</th>\n",
       "      <td>118</td>\n",
       "      <td>Female</td>\n",
       "      <td>60+</td>\n",
       "      <td>165</td>\n",
       "      <td>174</td>\n",
       "    </tr>\n",
       "    <tr>\n",
       "      <th>118</th>\n",
       "      <td>119</td>\n",
       "      <td>Female</td>\n",
       "      <td>60+</td>\n",
       "      <td>149</td>\n",
       "      <td>151</td>\n",
       "    </tr>\n",
       "    <tr>\n",
       "      <th>119</th>\n",
       "      <td>120</td>\n",
       "      <td>Female</td>\n",
       "      <td>60+</td>\n",
       "      <td>185</td>\n",
       "      <td>163</td>\n",
       "    </tr>\n",
       "  </tbody>\n",
       "</table>\n",
       "<p>120 rows × 5 columns</p>\n",
       "</div>"
      ],
      "text/plain": [
       "     patient     sex agegrp  bp_before  bp_after\n",
       "0          1    Male  30-45        143       153\n",
       "1          2    Male  30-45        163       170\n",
       "2          3    Male  30-45        153       168\n",
       "3          4    Male  30-45        153       142\n",
       "4          5    Male  30-45        146       141\n",
       "..       ...     ...    ...        ...       ...\n",
       "115      116  Female    60+        152       152\n",
       "116      117  Female    60+        161       152\n",
       "117      118  Female    60+        165       174\n",
       "118      119  Female    60+        149       151\n",
       "119      120  Female    60+        185       163\n",
       "\n",
       "[120 rows x 5 columns]"
      ]
     },
     "execution_count": 59,
     "metadata": {},
     "output_type": "execute_result"
    }
   ],
   "source": [
    "df"
   ]
  },
  {
   "cell_type": "code",
   "execution_count": 60,
   "id": "e4620dec",
   "metadata": {},
   "outputs": [
    {
     "data": {
      "text/html": [
       "<div>\n",
       "<style scoped>\n",
       "    .dataframe tbody tr th:only-of-type {\n",
       "        vertical-align: middle;\n",
       "    }\n",
       "\n",
       "    .dataframe tbody tr th {\n",
       "        vertical-align: top;\n",
       "    }\n",
       "\n",
       "    .dataframe thead th {\n",
       "        text-align: right;\n",
       "    }\n",
       "</style>\n",
       "<table border=\"1\" class=\"dataframe\">\n",
       "  <thead>\n",
       "    <tr style=\"text-align: right;\">\n",
       "      <th></th>\n",
       "      <th>bp_before</th>\n",
       "      <th>bp_after</th>\n",
       "    </tr>\n",
       "  </thead>\n",
       "  <tbody>\n",
       "    <tr>\n",
       "      <th>count</th>\n",
       "      <td>120.000000</td>\n",
       "      <td>120.000000</td>\n",
       "    </tr>\n",
       "    <tr>\n",
       "      <th>mean</th>\n",
       "      <td>156.450000</td>\n",
       "      <td>151.358333</td>\n",
       "    </tr>\n",
       "    <tr>\n",
       "      <th>std</th>\n",
       "      <td>11.389845</td>\n",
       "      <td>14.177622</td>\n",
       "    </tr>\n",
       "    <tr>\n",
       "      <th>min</th>\n",
       "      <td>138.000000</td>\n",
       "      <td>125.000000</td>\n",
       "    </tr>\n",
       "    <tr>\n",
       "      <th>25%</th>\n",
       "      <td>147.000000</td>\n",
       "      <td>140.750000</td>\n",
       "    </tr>\n",
       "    <tr>\n",
       "      <th>50%</th>\n",
       "      <td>154.500000</td>\n",
       "      <td>149.500000</td>\n",
       "    </tr>\n",
       "    <tr>\n",
       "      <th>75%</th>\n",
       "      <td>164.000000</td>\n",
       "      <td>161.000000</td>\n",
       "    </tr>\n",
       "    <tr>\n",
       "      <th>max</th>\n",
       "      <td>185.000000</td>\n",
       "      <td>185.000000</td>\n",
       "    </tr>\n",
       "  </tbody>\n",
       "</table>\n",
       "</div>"
      ],
      "text/plain": [
       "        bp_before    bp_after\n",
       "count  120.000000  120.000000\n",
       "mean   156.450000  151.358333\n",
       "std     11.389845   14.177622\n",
       "min    138.000000  125.000000\n",
       "25%    147.000000  140.750000\n",
       "50%    154.500000  149.500000\n",
       "75%    164.000000  161.000000\n",
       "max    185.000000  185.000000"
      ]
     },
     "execution_count": 60,
     "metadata": {},
     "output_type": "execute_result"
    }
   ],
   "source": [
    "df[[\"bp_before\", \"bp_after\"]].describe()"
   ]
  },
  {
   "cell_type": "code",
   "execution_count": 63,
   "id": "2d367f98",
   "metadata": {},
   "outputs": [
    {
     "data": {
      "text/plain": [
       "<AxesSubplot:>"
      ]
     },
     "execution_count": 63,
     "metadata": {},
     "output_type": "execute_result"
    },
    {
     "data": {
      "image/png": "[encoded data removed]",
      "text/plain": [
       "<Figure size 640x480 with 1 Axes>"
      ]
     },
     "metadata": {},
     "output_type": "display_data"
    }
   ],
   "source": [
    "df.boxplot(column = [\"bp_before\", \"bp_after\"], grid = False)"
   ]
  },
  {
   "cell_type": "code",
   "execution_count": 64,
   "id": "afee73cf",
   "metadata": {
    "scrolled": true
   },
   "outputs": [
    {
     "data": {
      "text/plain": [
       "((array([-2.52654228, -2.1978944 , -2.0086642 , -1.8721281 , -1.76356639,\n",
       "         -1.67252351, -1.59354821, -1.5234211 , -1.46007481, -1.40209915,\n",
       "         -1.3484871 , -1.29849326, -1.25154963, -1.20721295, -1.16513026,\n",
       "         -1.12501567, -1.08663416, -1.04979006, -1.01431855, -0.98007946,\n",
       "         -0.94695242, -0.9148333 , -0.8836313 , -0.85326673, -0.82366923,\n",
       "         -0.79477627, -0.76653206, -0.73888652, -0.71179451, -0.68521516,\n",
       "         -0.65911132, -0.6334491 , -0.60819743, -0.58332778, -0.55881382,\n",
       "         -0.53463119, -0.51075726, -0.48717098, -0.46385269, -0.44078394,\n",
       "         -0.41794744, -0.39532687, -0.37290682, -0.35067268, -0.32861058,\n",
       "         -0.3067073 , -0.28495019, -0.26332716, -0.24182657, -0.2204372 ,\n",
       "         -0.19914822, -0.17794913, -0.15682971, -0.13578003, -0.11479034,\n",
       "         -0.09385111, -0.07295295, -0.05208661, -0.03124292, -0.0104128 ,\n",
       "          0.0104128 ,  0.03124292,  0.05208661,  0.07295295,  0.09385111,\n",
       "          0.11479034,  0.13578003,  0.15682971,  0.17794913,  0.19914822,\n",
       "          0.2204372 ,  0.24182657,  0.26332716,  0.28495019,  0.3067073 ,\n",
       "          0.32861058,  0.35067268,  0.37290682,  0.39532687,  0.41794744,\n",
       "          0.44078394,  0.46385269,  0.48717098,  0.51075726,  0.53463119,\n",
       "          0.55881382,  0.58332778,  0.60819743,  0.6334491 ,  0.65911132,\n",
       "          0.68521516,  0.71179451,  0.73888652,  0.76653206,  0.79477627,\n",
       "          0.82366923,  0.85326673,  0.8836313 ,  0.9148333 ,  0.94695242,\n",
       "          0.98007946,  1.01431855,  1.04979006,  1.08663416,  1.12501567,\n",
       "          1.16513026,  1.20721295,  1.25154963,  1.29849326,  1.3484871 ,\n",
       "          1.40209915,  1.46007481,  1.5234211 ,  1.59354821,  1.67252351,\n",
       "          1.76356639,  1.8721281 ,  2.0086642 ,  2.1978944 ,  2.52654228]),\n",
       "  array([138, 140, 140, 141, 141, 142, 142, 142, 142, 142, 142, 142, 143,\n",
       "         143, 143, 143, 143, 144, 144, 144, 144, 145, 145, 145, 146, 147,\n",
       "         147, 147, 147, 147, 147, 148, 148, 148, 148, 149, 149, 149, 149,\n",
       "         149, 149, 150, 150, 150, 151, 151, 151, 151, 152, 152, 152, 152,\n",
       "         153, 153, 153, 153, 154, 154, 154, 154, 155, 155, 155, 156, 157,\n",
       "         157, 157, 157, 157, 158, 158, 158, 159, 159, 159, 159, 160, 160,\n",
       "         161, 161, 162, 162, 162, 162, 162, 162, 162, 163, 163, 164, 164,\n",
       "         165, 165, 165, 166, 167, 167, 167, 168, 170, 170, 170, 170, 170,\n",
       "         171, 172, 172, 172, 173, 173, 173, 175, 175, 175, 176, 180, 183,\n",
       "         184, 185, 185], dtype=int64)),\n",
       " (11.305848849729465, 156.45, 0.9796520247072549))"
      ]
     },
     "execution_count": 64,
     "metadata": {},
     "output_type": "execute_result"
    },
    {
     "data": {
      "image/png": "[encoded data removed]",
      "text/plain": [
       "<Figure size 640x480 with 1 Axes>"
      ]
     },
     "metadata": {},
     "output_type": "display_data"
    }
   ],
   "source": [
    "stats.probplot(df[\"bp_before\"], dist = \"norm\", plot = plt)"
   ]
  },
  {
   "cell_type": "code",
   "execution_count": 65,
   "id": "e210f0ba",
   "metadata": {},
   "outputs": [
    {
     "data": {
      "text/plain": [
       "((array([-2.52654228, -2.1978944 , -2.0086642 , -1.8721281 , -1.76356639,\n",
       "         -1.67252351, -1.59354821, -1.5234211 , -1.46007481, -1.40209915,\n",
       "         -1.3484871 , -1.29849326, -1.25154963, -1.20721295, -1.16513026,\n",
       "         -1.12501567, -1.08663416, -1.04979006, -1.01431855, -0.98007946,\n",
       "         -0.94695242, -0.9148333 , -0.8836313 , -0.85326673, -0.82366923,\n",
       "         -0.79477627, -0.76653206, -0.73888652, -0.71179451, -0.68521516,\n",
       "         -0.65911132, -0.6334491 , -0.60819743, -0.58332778, -0.55881382,\n",
       "         -0.53463119, -0.51075726, -0.48717098, -0.46385269, -0.44078394,\n",
       "         -0.41794744, -0.39532687, -0.37290682, -0.35067268, -0.32861058,\n",
       "         -0.3067073 , -0.28495019, -0.26332716, -0.24182657, -0.2204372 ,\n",
       "         -0.19914822, -0.17794913, -0.15682971, -0.13578003, -0.11479034,\n",
       "         -0.09385111, -0.07295295, -0.05208661, -0.03124292, -0.0104128 ,\n",
       "          0.0104128 ,  0.03124292,  0.05208661,  0.07295295,  0.09385111,\n",
       "          0.11479034,  0.13578003,  0.15682971,  0.17794913,  0.19914822,\n",
       "          0.2204372 ,  0.24182657,  0.26332716,  0.28495019,  0.3067073 ,\n",
       "          0.32861058,  0.35067268,  0.37290682,  0.39532687,  0.41794744,\n",
       "          0.44078394,  0.46385269,  0.48717098,  0.51075726,  0.53463119,\n",
       "          0.55881382,  0.58332778,  0.60819743,  0.6334491 ,  0.65911132,\n",
       "          0.68521516,  0.71179451,  0.73888652,  0.76653206,  0.79477627,\n",
       "          0.82366923,  0.85326673,  0.8836313 ,  0.9148333 ,  0.94695242,\n",
       "          0.98007946,  1.01431855,  1.04979006,  1.08663416,  1.12501567,\n",
       "          1.16513026,  1.20721295,  1.25154963,  1.29849326,  1.3484871 ,\n",
       "          1.40209915,  1.46007481,  1.5234211 ,  1.59354821,  1.67252351,\n",
       "          1.76356639,  1.8721281 ,  2.0086642 ,  2.1978944 ,  2.52654228]),\n",
       "  array([125, 126, 127, 131, 131, 131, 132, 132, 132, 133, 133, 134, 134,\n",
       "         135, 135, 135, 135, 135, 136, 136, 136, 136, 137, 137, 138, 138,\n",
       "         138, 139, 140, 140, 141, 141, 141, 142, 142, 142, 143, 143, 143,\n",
       "         144, 145, 145, 145, 146, 146, 146, 146, 146, 147, 147, 147, 147,\n",
       "         147, 148, 148, 148, 149, 149, 149, 149, 150, 150, 151, 151, 151,\n",
       "         151, 152, 152, 152, 152, 153, 153, 153, 154, 154, 155, 157, 157,\n",
       "         157, 158, 158, 159, 159, 159, 159, 159, 160, 160, 160, 161, 161,\n",
       "         162, 162, 163, 163, 163, 164, 164, 164, 167, 167, 168, 168, 168,\n",
       "         168, 169, 169, 170, 171, 174, 174, 175, 175, 176, 177, 178, 183,\n",
       "         184, 185, 185], dtype=int64)),\n",
       " (14.211479078426114, 151.35833333333332, 0.989287139159447))"
      ]
     },
     "execution_count": 65,
     "metadata": {},
     "output_type": "execute_result"
    },
    {
     "data": {
      "image/png": "[encoded data removed]",
      "text/plain": [
       "<Figure size 640x480 with 1 Axes>"
      ]
     },
     "metadata": {},
     "output_type": "display_data"
    }
   ],
   "source": [
    "stats.probplot(df[\"bp_after\"], dist = \"norm\", plot = plt)"
   ]
  },
  {
   "cell_type": "code",
   "execution_count": null,
   "id": "21c7856c",
   "metadata": {},
   "outputs": [],
   "source": []
  }
 ],
 "metadata": {
  "kernelspec": {
   "display_name": "Python 3 (ipykernel)",
   "language": "python",
   "name": "python3"
  },
  "language_info": {
   "codemirror_mode": {
    "name": "ipython",
    "version": 3
   },
   "file_extension": ".py",
   "mimetype": "text/x-python",
   "name": "python",
   "nbconvert_exporter": "python",
   "pygments_lexer": "ipython3",
   "version": "3.9.13"
  }
 },
 "nbformat": 4,
 "nbformat_minor": 5
}
